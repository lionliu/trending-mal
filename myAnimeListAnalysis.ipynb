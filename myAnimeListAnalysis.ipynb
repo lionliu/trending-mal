{
 "cells": [
  {
   "cell_type": "markdown",
   "metadata": {
    "id": "A7GGnTjHWhsm"
   },
   "source": [
    "# Setup Inicial"
   ]
  },
  {
   "cell_type": "markdown",
   "metadata": {},
   "source": [
    "Instalar o wget caso não possua no seu computador, ou baixar o dataset direto pelo link abaixo"
   ]
  },
  {
   "cell_type": "code",
   "execution_count": null,
   "metadata": {
    "id": "Z4xJ-quNUNst"
   },
   "outputs": [],
   "source": [
    "!wget -q --show-progress http://cin.ufpe.br/~llm2/newAnime.zip -O newAnime.zip\n",
    "!unzip -o newAnime.zip"
   ]
  },
  {
   "cell_type": "code",
   "execution_count": null,
   "metadata": {
    "id": "YX8qc_54Wuah"
   },
   "outputs": [],
   "source": [
    "import pandas as pd\n",
    "import numpy as np\n",
    "import seaborn as sns\n",
    "import matplotlib.pyplot as plt\n",
    "from sklearn.preprocessing import MinMaxScaler, MultiLabelBinarizer\n",
    "from sklearn.ensemble import IsolationForest\n",
    "from sklearn.cluster import KMeans\n",
    "from sklearn.metrics import silhouette_score\n",
    "from tqdm import tqdm\n",
    "from scipy import stats"
   ]
  },
  {
   "cell_type": "markdown",
   "metadata": {
    "id": "cPtIhENZWnXX"
   },
   "source": [
    "# Load dos dados\n"
   ]
  },
  {
   "cell_type": "markdown",
   "metadata": {
    "id": "ruEqcc2vPtya"
   },
   "source": [
    "Os dados foram coletados utilizando a API Jikan que acessa o site MyAnimeList\n",
    "\n",
    "Foi feito a iteração pelos id's disponiveis nesse [dataset](https://www.kaggle.com/marlesson/myanimelist-dataset-animes-profiles-reviews), realizado na data 24/9.\n",
    "\n",
    "Script disponivel [aqui](https://github.com/lionliu/trending-mal/blob/master/scraping/get_updated_data.py)"
   ]
  },
  {
   "cell_type": "code",
   "execution_count": null,
   "metadata": {
    "id": "slNnRdaRW8lp"
   },
   "outputs": [],
   "source": [
    "animeList = pd.read_csv(\"./newAnime.csv\")\n",
    "animeList = animeList.drop_duplicates(subset = ['title'])"
   ]
  },
  {
   "cell_type": "code",
   "execution_count": null,
   "metadata": {
    "id": "kmxcTiLy0O0X"
   },
   "outputs": [],
   "source": [
    "len(animeList)"
   ]
  },
  {
   "cell_type": "markdown",
   "metadata": {
    "id": "Jp1cBu4kUjnW"
   },
   "source": [
    "# Pre-processamento"
   ]
  },
  {
   "cell_type": "code",
   "execution_count": null,
   "metadata": {
    "id": "NZqL-ObIP0vM"
   },
   "outputs": [],
   "source": [
    "animeList.head()"
   ]
  },
  {
   "cell_type": "code",
   "execution_count": null,
   "metadata": {
    "id": "fsfot83TP6H5"
   },
   "outputs": [],
   "source": [
    "animeList.describe()"
   ]
  },
  {
   "cell_type": "code",
   "execution_count": null,
   "metadata": {
    "id": "7oQvVgBgZDff"
   },
   "outputs": [],
   "source": [
    "animeList.dtypes"
   ]
  },
  {
   "cell_type": "code",
   "execution_count": null,
   "metadata": {
    "id": "mtrCwPY_cgra"
   },
   "outputs": [],
   "source": [
    "animeList.corr()"
   ]
  },
  {
   "cell_type": "markdown",
   "metadata": {
    "id": "bV5R7_NFnlbD"
   },
   "source": [
    "Remoção das seguintes colunas:\n",
    "\n",
    "\n",
    "*   mal_id: ID do anime, que não agregaria a analise de dados\n",
    "*   rank: ordenamento por score dos animes\n",
    "*   popularity: ordenamento por quantidade de membros\n",
    "\n"
   ]
  },
  {
   "cell_type": "code",
   "execution_count": null,
   "metadata": {
    "id": "bZ3Fc5lMxvwM"
   },
   "outputs": [],
   "source": [
    "animeList = animeList.drop(['mal_id', 'rank', 'popularity'], axis=1)"
   ]
  },
  {
   "cell_type": "code",
   "execution_count": null,
   "metadata": {
    "id": "GRLYh8TsnGJq"
   },
   "outputs": [],
   "source": [
    "# animeList[(animeList['genres'] == '[]') & (animeList['studios'] == '[]')]\n",
    "# 0,03% dos dados, e também, pode não conter source, nem score, e nem rank, e alguns sequer episodios, com rápida pesquisa, aparentam ser curta metragens\n",
    "print(len(animeList[(animeList['genres'] == '[]') & (animeList['studios'] == '[]')])/len(animeList))\n",
    "animeList = animeList[(animeList['genres'] != '[]') | (animeList['studios'] != '[]')]"
   ]
  },
  {
   "cell_type": "code",
   "execution_count": null,
   "metadata": {
    "id": "QYHjR5qm7UxR"
   },
   "outputs": [],
   "source": [
    "animeList = animeList.replace({'genres':'[]','studios':'[]'},\"['Unknown']\")"
   ]
  },
  {
   "cell_type": "code",
   "execution_count": null,
   "metadata": {
    "id": "slWzzmiiKvnU"
   },
   "outputs": [],
   "source": [
    "# Criar uma coluna a partir da coluna de generos de string para lista\n",
    "def string_to_list(s):\n",
    "    return s.strip('][').split(', ')\n",
    "  \n",
    "def remove_quotes(s):\n",
    "    return list(map(lambda a: a.strip('\\''), s))\n",
    "\n",
    "genreList = animeList['genres'].apply(string_to_list).apply(remove_quotes)\n",
    "studioList = animeList['studios'].apply(string_to_list).apply(remove_quotes)\n",
    "animeList['studiosList'] = animeList['studios'].apply(string_to_list).apply(remove_quotes)\n",
    "animeList['genresList'] = animeList['genres'].apply(string_to_list).apply(remove_quotes)"
   ]
  },
  {
   "cell_type": "code",
   "execution_count": null,
   "metadata": {
    "id": "bRDBb2CZTBEK"
   },
   "outputs": [],
   "source": [
    "import itertools\n",
    "# Gerar uma lista de todos os generos de animes\n",
    "genreListArr = sorted(set(itertools.chain.from_iterable(genreList)))\n",
    "studioListArr = sorted(set(itertools.chain.from_iterable(studioList)))\n",
    "print(genreListArr)\n",
    "# print(studioListArr)\n",
    "print(\"\\nQuantidade de gêneros : \" + str(len(genreListArr)) + \"\\nQuantidade de estúdios: \" + str(len(studioListArr)))"
   ]
  },
  {
   "cell_type": "code",
   "execution_count": null,
   "metadata": {
    "id": "i6WtFWfRR-6X"
   },
   "outputs": [],
   "source": [
    "# Relação de nulos sobre o total\n",
    "print(animeList.isna().sum() / len(animeList))\n",
    "print(animeList.isna().sum())"
   ]
  },
  {
   "cell_type": "markdown",
   "metadata": {
    "id": "R8V1o7G2ZXz-"
   },
   "source": [
    "Mesmo que os scores faltantes tenham uma proporção consideravel de 27%, decidimos tirar pois já temos uma quantidade consideravel de dados, e também é provavél que os animes com scores faltando serem os mais desconhecidos, logo não seriam interessantes para a nossa análise."
   ]
  },
  {
   "cell_type": "code",
   "execution_count": null,
   "metadata": {
    "id": "ShnOrNH0SIHq"
   },
   "outputs": [],
   "source": [
    "animeList = animeList[animeList['score'].notnull()]"
   ]
  },
  {
   "cell_type": "code",
   "execution_count": null,
   "metadata": {
    "id": "vear4iHgSKuw"
   },
   "outputs": [],
   "source": [
    "animeList = animeList[animeList['episodes'].notnull()]"
   ]
  },
  {
   "cell_type": "markdown",
   "metadata": {
    "id": "PEVZlRIBaEpR"
   },
   "source": [
    "Vamos cortar os animes por 6 quantis de membros, para assim podermos atribuir uma categoria a cada quartil com um rank e fazer uma análise mais na frente."
   ]
  },
  {
   "cell_type": "code",
   "execution_count": null,
   "metadata": {
    "id": "44tTDPqSHmwi"
   },
   "outputs": [],
   "source": [
    "animeList['categoryByMembers'] = pd.qcut(animeList['members'], 6)\n",
    "animeList['categoryByMembers'] = animeList['categoryByMembers'].astype('category')\n",
    "animeList['categoryByMembers'].value_counts()"
   ]
  },
  {
   "cell_type": "code",
   "execution_count": null,
   "metadata": {
    "id": "k10LLUAjT4TU"
   },
   "outputs": [],
   "source": [
    "animeList['categoryByMembers'].cat.categories = ['Iron', 'Bronze', 'Silver', 'Gold','Platinum', 'Diamond']\n",
    "animeList['categoryByMembers'].value_counts()"
   ]
  },
  {
   "cell_type": "markdown",
   "metadata": {},
   "source": [
    "Fazer uma coluna apenas com o primeiro estúdio da lista  para poder definir-la como categoria."
   ]
  },
  {
   "cell_type": "code",
   "execution_count": null,
   "metadata": {
    "id": "3T7WTess66lQ"
   },
   "outputs": [],
   "source": [
    "len(animeList[animeList.studiosList.str.len() > 1])"
   ]
  },
  {
   "cell_type": "code",
   "execution_count": null,
   "metadata": {
    "id": "_qMTTcRg81GJ"
   },
   "outputs": [],
   "source": [
    "animeList['studio'] = animeList.studiosList.apply(lambda x: x[0])\n",
    "animeList['studio'] = animeList.studio.astype('category')\n",
    "animeList['studioCode'] = animeList.studio.cat.codes"
   ]
  },
  {
   "cell_type": "code",
   "execution_count": null,
   "metadata": {
    "id": "A_sy-8WR_5Nx"
   },
   "outputs": [],
   "source": [
    "animeList['studioCode']"
   ]
  },
  {
   "cell_type": "markdown",
   "metadata": {
    "id": "jYHO8Zs7blJh"
   },
   "source": [
    "### Remoção de outliers e normalização"
   ]
  },
  {
   "cell_type": "markdown",
   "metadata": {
    "id": "q2uiEtI0bx4B"
   },
   "source": [
    "#### Univariada"
   ]
  },
  {
   "cell_type": "code",
   "execution_count": null,
   "metadata": {
    "id": "SDKDdhRnSBYH"
   },
   "outputs": [],
   "source": [
    "# Necessidade de retirar outliers\n",
    "animeList['members'].plot.box()"
   ]
  },
  {
   "cell_type": "code",
   "execution_count": null,
   "metadata": {
    "id": "YdXtUJJYb2X7"
   },
   "outputs": [],
   "source": [
    "animeList['members_log'] = np.log10(animeList['members'])\n",
    "print(animeList['members_log'].mad())\n",
    "animeList['members_log'].hist()"
   ]
  },
  {
   "cell_type": "code",
   "execution_count": null,
   "metadata": {
    "id": "xsuGHkS0e0Lz"
   },
   "outputs": [],
   "source": [
    "animeList['members_log'].plot.box()"
   ]
  },
  {
   "cell_type": "markdown",
   "metadata": {
    "id": "uG7JFrMXiAwK"
   },
   "source": [
    "Os outliers pelo método Z-score robusto com um limiar de 3 são os animes mais famosos, logo sua quantidade de membros é normal para a sua popularidade, não havendo a necessidade de remove-los"
   ]
  },
  {
   "cell_type": "code",
   "execution_count": null,
   "metadata": {
    "id": "GzknvqDCgvsn"
   },
   "outputs": [],
   "source": [
    "animeList[abs(animeList['members_log']-animeList['members_log'].median()) / animeList['members_log'].mad() > 3]"
   ]
  },
  {
   "cell_type": "code",
   "execution_count": null,
   "metadata": {
    "id": "Pu4_gTVGf4Ia"
   },
   "outputs": [],
   "source": [
    "q1 = animeList['members_log'].quantile(q=0.25)\n",
    "q3 = animeList['members_log'].quantile(q=0.75)\n",
    "# Intervalo interquartil\n",
    "iqr = q3 - q1\n",
    "print(iqr)"
   ]
  },
  {
   "cell_type": "markdown",
   "metadata": {
    "id": "t3nybbKygmkn"
   },
   "source": [
    "Há 2 outliers pelo método de Tukey, mas não iremos remove-los pelo mesmo motivo acima"
   ]
  },
  {
   "cell_type": "code",
   "execution_count": null,
   "metadata": {
    "id": "RgTXNGp6f9zw"
   },
   "outputs": [],
   "source": [
    "print(len(animeList[animeList['members_log'] < (q1-1.5*iqr)]))\n",
    "print(len(animeList[animeList['members_log'] > (q3+1.5*iqr)]))"
   ]
  },
  {
   "cell_type": "code",
   "execution_count": null,
   "metadata": {
    "id": "P_SLKpnfKJZP"
   },
   "outputs": [],
   "source": [
    "animeList[animeList['members_log'] > (q3+1.5*iqr)]"
   ]
  },
  {
   "cell_type": "markdown",
   "metadata": {
    "id": "iccgznwjb0n2"
   },
   "source": [
    "#### Bivariada"
   ]
  },
  {
   "cell_type": "markdown",
   "metadata": {},
   "source": [
    "Gerar uma nova coluna com a razão de favoritos por membros, pois todos que favoritaram são membros, mas nem todos os membros favoritaram."
   ]
  },
  {
   "cell_type": "code",
   "execution_count": null,
   "metadata": {
    "id": "tu3Yi4eEif0t"
   },
   "outputs": [],
   "source": [
    "# animeList.plot.scatter('members', 'favorites')\n",
    "sns.scatterplot(x=animeList['members'], y=animeList['favorites'])"
   ]
  },
  {
   "cell_type": "code",
   "execution_count": null,
   "metadata": {
    "id": "fH3-RbINjUtV"
   },
   "outputs": [],
   "source": [
    "animeList['favorite_per_member'] = animeList['favorites'] / animeList['members']"
   ]
  },
  {
   "cell_type": "code",
   "execution_count": null,
   "metadata": {
    "id": "jlQl-YiEkSAi"
   },
   "outputs": [],
   "source": [
    "animeList['favorite_per_member'].describe()"
   ]
  },
  {
   "cell_type": "code",
   "execution_count": null,
   "metadata": {
    "id": "sKSerHagkdtj"
   },
   "outputs": [],
   "source": [
    "animeList['favorite_per_member'].hist()"
   ]
  },
  {
   "cell_type": "code",
   "execution_count": null,
   "metadata": {
    "id": "KWSvo2ZKki0V"
   },
   "outputs": [],
   "source": [
    "animeList['favorite_per_member'] = np.log10(animeList['favorite_per_member'])"
   ]
  },
  {
   "cell_type": "code",
   "execution_count": null,
   "metadata": {
    "id": "Yu5ks5kxlwtc"
   },
   "outputs": [],
   "source": [
    "animeList['favorite_per_member'].plot.box()"
   ]
  },
  {
   "cell_type": "markdown",
   "metadata": {
    "id": "3fqwWw_VmAuv"
   },
   "source": [
    "Não há outliers pelo z-score robusto"
   ]
  },
  {
   "cell_type": "code",
   "execution_count": null,
   "metadata": {
    "id": "4bOvB_Yuk4f4"
   },
   "outputs": [],
   "source": [
    "animeList[abs(animeList['favorite_per_member']-animeList['favorite_per_member'].median())/animeList['favorite_per_member'].mad() > 3]"
   ]
  },
  {
   "cell_type": "code",
   "execution_count": null,
   "metadata": {
    "id": "bOMp7_LamEzK"
   },
   "outputs": [],
   "source": [
    "q1 = animeList['favorite_per_member'].quantile(q=0.25)\n",
    "q3 = animeList['favorite_per_member'].quantile(q=0.75)\n",
    "# Intervalo interquartil\n",
    "iqr = q3 - q1\n",
    "print(iqr)"
   ]
  },
  {
   "cell_type": "code",
   "execution_count": null,
   "metadata": {
    "id": "Or7LIn6zmNF8"
   },
   "outputs": [],
   "source": [
    "animeList[animeList['favorite_per_member'] < (q1-1.5*iqr)]"
   ]
  },
  {
   "cell_type": "markdown",
   "metadata": {
    "id": "Z6P0mz1oLM-X"
   },
   "source": [
    "Apenas os 2 ultimos da lista de favorites_per_member maiores que q3 + 1.5 * iqr são outliers, o restante é normal pela popularidade"
   ]
  },
  {
   "cell_type": "code",
   "execution_count": null,
   "metadata": {
    "id": "NG2ir0Nemipd"
   },
   "outputs": [],
   "source": [
    "animeList[animeList['favorite_per_member'] > (q3+1.5*iqr)]"
   ]
  },
  {
   "cell_type": "code",
   "execution_count": null,
   "metadata": {
    "id": "hloTyIp8LkCJ"
   },
   "outputs": [],
   "source": [
    "animeList = animeList[animeList[\"favorite_per_member\"] > (q1-1.5*iqr)]\n",
    "animeList = animeList[animeList[\"title\"] != 'Ultra B']\n",
    "animeList = animeList[animeList[\"title\"] != 'Zinba']"
   ]
  },
  {
   "cell_type": "markdown",
   "metadata": {
    "id": "-y7dgj4Lbton"
   },
   "source": [
    "#### Normalização"
   ]
  },
  {
   "cell_type": "code",
   "execution_count": null,
   "metadata": {
    "id": "ev9gTH4In5bI"
   },
   "outputs": [],
   "source": [
    "scaler = MinMaxScaler()"
   ]
  },
  {
   "cell_type": "code",
   "execution_count": null,
   "metadata": {
    "id": "Va-bmTtjEXXy"
   },
   "outputs": [],
   "source": [
    "# animeList['scoreNorm'] = (animeList['score'] - animeList['score'].min()) / (animeList['score'].max() - animeList['score'].min())\n",
    "animeList['scoreNorm'] = scaler.fit_transform(animeList[['score']])\n",
    "print(animeList['scoreNorm'].describe())\n",
    "animeList['scoreNorm'].hist()"
   ]
  },
  {
   "cell_type": "code",
   "execution_count": null,
   "metadata": {
    "id": "3zOFHrsjZDOJ"
   },
   "outputs": [],
   "source": [
    "# animeList['membersLogNorm'] = (animeList['members_log'] - animeList['members_log'].min()) / (animeList['members_log'].max() - animeList['members_log'].min())\n",
    "animeList['membersLogNorm'] = scaler.fit_transform(animeList[['members_log']])\n",
    "print(animeList['membersLogNorm'].describe())\n",
    "animeList['membersLogNorm'].hist()"
   ]
  },
  {
   "cell_type": "markdown",
   "metadata": {
    "id": "qtbGK7Ncxwhu"
   },
   "source": [
    "Gerando outro dataset normalizado"
   ]
  },
  {
   "cell_type": "code",
   "execution_count": null,
   "metadata": {
    "id": "Load7E5kxn22"
   },
   "outputs": [],
   "source": [
    "animeListNorm = pd.DataFrame()\n",
    "animeListNorm['title'] = animeList['title']\n",
    "animeListNorm['members'] = scaler.fit_transform(animeList[['members']])\n",
    "animeListNorm['favorites'] = scaler.fit_transform(animeList[['favorites']])\n",
    "animeListNorm['episodes'] = scaler.fit_transform(animeList[['episodes']])\n",
    "animeListNorm['score'] = animeList['score']\n",
    "animeListNorm['scoreNorm'] = scaler.fit_transform(animeList[['score']])\n",
    "animeListNorm.head()"
   ]
  },
  {
   "cell_type": "markdown",
   "metadata": {
    "id": "QCHJ6Rggb3sj"
   },
   "source": [
    "#### Multivariada"
   ]
  },
  {
   "cell_type": "markdown",
   "metadata": {
    "id": "w2ytNnEN7CBP"
   },
   "source": [
    "Usar o MultiLabelBinarizer para realizar o one hot encoding das listas de generos"
   ]
  },
  {
   "cell_type": "code",
   "execution_count": null,
   "metadata": {
    "id": "TaxUTf_9mIOJ"
   },
   "outputs": [],
   "source": [
    "mlb = MultiLabelBinarizer()\n",
    "tempAnimeList = animeList.copy()\n",
    "tempAnimeList = tempAnimeList.join(\n",
    "    pd.DataFrame(mlb.fit_transform(tempAnimeList.pop('genresList')),\n",
    "                 columns=mlb.classes_,\n",
    "                 index=tempAnimeList.index))"
   ]
  },
  {
   "cell_type": "code",
   "execution_count": null,
   "metadata": {
    "id": "sXYm5O3968Yk"
   },
   "outputs": [],
   "source": [
    "tempAnimeList.head()"
   ]
  },
  {
   "cell_type": "code",
   "execution_count": null,
   "metadata": {
    "id": "FKSI6WFb7Kw6"
   },
   "outputs": [],
   "source": [
    "# Dropar as colunas que não númericas e as geradas pelo log\n",
    "tempAnimeList = tempAnimeList.drop(columns=['title', 'studios', 'genres','source', 'studiosList', 'categoryByMembers', 'studio', 'members_log'])\n",
    "# Atribuir os valores normalizados com o dataset processado acima\n",
    "tempAnimeList['members'] = animeListNorm['members']\n",
    "tempAnimeList['favorites'] = animeListNorm['favorites']\n",
    "tempAnimeList['episodes'] = animeListNorm['episodes']\n",
    "tempAnimeList['score'] = animeListNorm['scoreNorm']"
   ]
  },
  {
   "cell_type": "code",
   "execution_count": null,
   "metadata": {
    "id": "DSKAfRLc-XWY"
   },
   "outputs": [],
   "source": [
    "clf = IsolationForest(random_state=2020, behaviour=\"new\")\n",
    "clf.fit(tempAnimeList)"
   ]
  },
  {
   "cell_type": "code",
   "execution_count": null,
   "metadata": {
    "id": "Oo9I471e-4yA"
   },
   "outputs": [],
   "source": [
    "scores = clf.predict(tempAnimeList)"
   ]
  },
  {
   "cell_type": "code",
   "execution_count": null,
   "metadata": {
    "id": "2mvUi2EC_CUH"
   },
   "outputs": [],
   "source": [
    "scores"
   ]
  },
  {
   "cell_type": "code",
   "execution_count": null,
   "metadata": {
    "id": "xrY4LNRa_lah"
   },
   "outputs": [],
   "source": [
    "tempAnimeList = animeList.copy()\n",
    "tempAnimeList['outlier'] = scores\n",
    "tempAnimeList[tempAnimeList['outlier'] == -1]"
   ]
  },
  {
   "cell_type": "code",
   "execution_count": null,
   "metadata": {
    "id": "bM5RqQxJ_nf1"
   },
   "outputs": [],
   "source": [
    "tempAnimeList = tempAnimeList[tempAnimeList['outlier'] != -1]"
   ]
  },
  {
   "cell_type": "code",
   "execution_count": null,
   "metadata": {
    "id": "1GE2p2YA_YHt"
   },
   "outputs": [],
   "source": [
    "print(len(tempAnimeList))\n",
    "tempAnimeList.head()"
   ]
  },
  {
   "cell_type": "markdown",
   "metadata": {
    "id": "UjLfkdxRzTwa"
   },
   "source": [
    "Foram 235 outliers detectados, porém este dataset não será utilizado na análise exploratória."
   ]
  },
  {
   "cell_type": "markdown",
   "metadata": {
    "id": "fmsgi-2JZXb0"
   },
   "source": [
    "# Amostra de dados e resultados\n"
   ]
  },
  {
   "cell_type": "markdown",
   "metadata": {
    "id": "JXQ_QHbN9_DA"
   },
   "source": [
    "## Exploratory Data Analysis"
   ]
  },
  {
   "cell_type": "markdown",
   "metadata": {
    "id": "XmLLtalY-ht-"
   },
   "source": [
    "### Distribuição dos scores"
   ]
  },
  {
   "cell_type": "markdown",
   "metadata": {
    "id": "w_FJd5Cd-o1i"
   },
   "source": [
    "Pelo gráfico, conseguimos ver a média de 6,68 com desvio padrão de 0,83"
   ]
  },
  {
   "cell_type": "code",
   "execution_count": null,
   "metadata": {
    "id": "frilJa25JSVm"
   },
   "outputs": [],
   "source": [
    "plt.figure(figsize=(10,10))\n",
    "rating= animeList.score.astype(float)\n",
    "print(animeList.score.astype(float).mean())\n",
    "print(animeList.score.astype(float).std())\n",
    "sns.distplot(rating, bins=20)"
   ]
  },
  {
   "cell_type": "markdown",
   "metadata": {
    "id": "Ee-bWs1zB6r5"
   },
   "source": [
    "### Top 10 animes por quantidade de membros"
   ]
  },
  {
   "cell_type": "code",
   "execution_count": null,
   "metadata": {
    "id": "og-WX46VB_bh"
   },
   "outputs": [],
   "source": [
    "mostMembers = animeList.sort_values('members', ascending=False).head(10).set_index('title')\n",
    "plt.figure(figsize=(15,10))\n",
    "sns.barplot(mostMembers['members'], mostMembers.index)"
   ]
  },
  {
   "cell_type": "markdown",
   "metadata": {
    "id": "_Q48JvgaDclA"
   },
   "source": [
    "O primeiro anime **Death Note** está muito na frente em relação aos demais, principalmente a partir do **Tokyo Ghoul** onde a diferença da margem é mais significativa"
   ]
  },
  {
   "cell_type": "markdown",
   "metadata": {
    "id": "XWuMBTIaD1dN"
   },
   "source": [
    "### Análise dos Gêneros"
   ]
  },
  {
   "cell_type": "code",
   "execution_count": null,
   "metadata": {
    "id": "OMNmbTv4bxxe"
   },
   "outputs": [],
   "source": [
    "tempGenres = animeList.explode(\"genresList\")\n",
    "tempGenres['genresList'] = tempGenres['genresList'].astype('category')"
   ]
  },
  {
   "cell_type": "code",
   "execution_count": null,
   "metadata": {
    "id": "z_HlAe3rg-6d"
   },
   "outputs": [],
   "source": [
    "countGenres = tempGenres['genresList'].value_counts()\n",
    "plt.figure(figsize=(15,10))\n",
    "sns.barplot(x=countGenres.values, y=countGenres.index, orient=\"h\", order=countGenres.index)\n",
    "plt.xlabel(\"Quantity of animes per genre\")\n",
    "plt.show()"
   ]
  },
  {
   "cell_type": "markdown",
   "metadata": {
    "id": "zvHhu2KZEEHV"
   },
   "source": [
    "O gênero com a maior quantidade de animes é o de **comédia**, seguido de **ação**. Depois a margem aumenta significativamente em relação a **fantasia**."
   ]
  },
  {
   "cell_type": "code",
   "execution_count": null,
   "metadata": {
    "id": "DDL2aD8qhY62"
   },
   "outputs": [],
   "source": [
    "meanGenres = tempGenres.groupby(\"genresList\").score.mean().sort_values(ascending=False)\n",
    "plt.figure(figsize=(15,10))\n",
    "sns.barplot(x=meanGenres.values, y = meanGenres.index,orient=\"h\", order=meanGenres.index)\n",
    "plt.xlabel(\"Mean scores per genres\")\n",
    "plt.show()"
   ]
  },
  {
   "cell_type": "markdown",
   "metadata": {
    "id": "PbJgZPGCEiF-"
   },
   "source": [
    "Os animes de **thriller** e **mistério** são os com maior nota em média, seguido de **shounen**, este que é um dos gêneros mais famosos do mercado. No final da lista, os animes considerados +18 são os que tem menor nota. "
   ]
  },
  {
   "cell_type": "code",
   "execution_count": null,
   "metadata": {
    "id": "9i-bpIFStR5x"
   },
   "outputs": [],
   "source": [
    "medianGenres = tempGenres.groupby(\"genresList\").score.median().sort_values(ascending=False)\n",
    "plt.figure(figsize=(15,10))\n",
    "sns.barplot(x=medianGenres.values, y = medianGenres.index,orient=\"h\", order=medianGenres.index)\n",
    "plt.xlabel(\"Median scores per genres\")\n",
    "plt.show()"
   ]
  },
  {
   "cell_type": "markdown",
   "metadata": {
    "id": "mUtggZ1FFC_B"
   },
   "source": [
    "### Análise dos Estúdios"
   ]
  },
  {
   "cell_type": "code",
   "execution_count": null,
   "metadata": {
    "id": "Uum3aLCi9Bvq"
   },
   "outputs": [],
   "source": [
    "tempStudios = animeList.explode(\"studiosList\")\n",
    "tempStudios['studiosList'] = tempStudios['studiosList'].astype('category')"
   ]
  },
  {
   "cell_type": "code",
   "execution_count": null,
   "metadata": {
    "id": "q6GUzqGFmVMa"
   },
   "outputs": [],
   "source": [
    "countStudios = tempStudios['studiosList'].value_counts()[1:50]\n",
    "plt.figure(figsize=(15,10))\n",
    "sns.barplot(x=countStudios.values, y=countStudios.index, orient=\"h\", order=countStudios.index)\n",
    "plt.xlabel(\"Quantity of animes per Studios\")\n",
    "plt.show()"
   ]
  },
  {
   "cell_type": "markdown",
   "metadata": {
    "id": "hfXz5YMxFOnZ"
   },
   "source": [
    "Os estúdios da **Toei**, **Sunrise** e **Madhouse** são os que mais produziram animes. Isso se deve ao seu tempo no mercado. A **Toei** produz animes desde 1948, a **Sunrise** e a **Madhouse** desde 1972."
   ]
  },
  {
   "cell_type": "code",
   "execution_count": null,
   "metadata": {
    "id": "bhNLapznV2SO"
   },
   "outputs": [],
   "source": [
    "meanStudios = tempStudios.groupby(\"studiosList\").score.mean().sort_values(ascending=False)[:50]\n",
    "plt.figure(figsize=(15,10))\n",
    "sns.barplot(x=meanStudios.values, y=meanStudios.index,orient=\"h\", order=meanStudios.index)\n",
    "plt.xlabel(\"Mean scores per Studios\")\n",
    "plt.show()"
   ]
  },
  {
   "cell_type": "markdown",
   "metadata": {
    "id": "bN3SBTWKHV_B"
   },
   "source": [
    "### Distribuição por Origem"
   ]
  },
  {
   "cell_type": "code",
   "execution_count": null,
   "metadata": {
    "id": "I8ZWOAKHHa-v"
   },
   "outputs": [],
   "source": [
    "animeList.source.value_counts().plot.pie(autopct=\"%.0f%%\",figsize=(15,10),pctdistance=0.8,\n",
    "wedgeprops=dict(width=0.4))\n",
    "plt.show()"
   ]
  },
  {
   "cell_type": "markdown",
   "metadata": {
    "id": "9GUY1NG9Hnfa"
   },
   "source": [
    "Pela distribuição, os animes oriundos de mangás (quadrinhos japoneses) são maioria, seguido por anime de roteiros originais. A grande proporção de Unknown se deve ao fato do MyAnimeList não ter o campo de origem preenchido."
   ]
  },
  {
   "cell_type": "markdown",
   "metadata": {
    "id": "IteX3Zq4wf55"
   },
   "source": [
    "### Relação de episódios por score"
   ]
  },
  {
   "cell_type": "code",
   "execution_count": null,
   "metadata": {
    "id": "lmBM9_y0x3l9"
   },
   "outputs": [],
   "source": [
    "animeList['episodes'].describe()"
   ]
  },
  {
   "cell_type": "markdown",
   "metadata": {
    "id": "REG4xlR_ylzw"
   },
   "source": [
    "Plotar os animes com episodios menor-igual a 50, pois é onde se encontra a maioria dos animes. "
   ]
  },
  {
   "cell_type": "code",
   "execution_count": null,
   "metadata": {
    "id": "-0UBzoSvwnxh"
   },
   "outputs": [],
   "source": [
    "temp = animeList[animeList['episodes'] <= 50]\n",
    "plt.figure(figsize=(15,10))\n",
    "sns.set_context('paper')\n",
    "ax = sns.jointplot(x=\"score\", y=\"episodes\", data = temp, color = 'orange')\n",
    "ax.set_axis_labels(\"Score\", \"Episódios\")"
   ]
  },
  {
   "cell_type": "markdown",
   "metadata": {
    "id": "2O8kFde1yiMf"
   },
   "source": [
    "Pelo gráfico, não é possivel visualizar uma correlação entre a quantidade de episodios para uma nota positiva. Para notas ruins (<= 4), pode ser observado que a maioria possuem apenas 1 episódio, sendo muito provavelmente curta-metragens, clipes ou comerciais.\n",
    "\n",
    "Também é possivel detectar picos próximos de 12 e 24 episódios. Isso se deve porque a maioria dos animes são lançados por temporada de 3 ou 6 meses semanalmente, resultando em 12 ou 24 episódios."
   ]
  },
  {
   "cell_type": "markdown",
   "metadata": {
    "id": "A9jpnCH9HXZe"
   },
   "source": [
    "#### Relação do score pelos quantis dos membros"
   ]
  },
  {
   "cell_type": "code",
   "execution_count": null,
   "metadata": {
    "id": "z2_Ibp-RH9lP"
   },
   "outputs": [],
   "source": [
    "meanCategory = tempStudios.groupby(\"categoryByMembers\").score.mean().sort_values(ascending=False)\n",
    "plt.figure(figsize=(15,10))\n",
    "sns.barplot(x=meanCategory.values, y=meanCategory.index,orient=\"h\", order=meanCategory.index)\n",
    "plt.xlabel(\"Mean scores per category\")\n",
    "plt.show()"
   ]
  },
  {
   "cell_type": "markdown",
   "metadata": {
    "id": "Xum-ejAqIZ2u"
   },
   "source": [
    "Pelo gráfico acima das categorias de quantidade de membros divididos em 6 quantis, é possivel visualizar que a média do score sobe a medida que a quantidade de membros é maior. Isso poderá ser observado também nos gráficos de correlação abaixo."
   ]
  },
  {
   "cell_type": "markdown",
   "metadata": {
    "id": "iW5-gbv2Orhx"
   },
   "source": [
    "## Covariancias e correlações"
   ]
  },
  {
   "cell_type": "code",
   "execution_count": null,
   "metadata": {
    "id": "irLGCBgDNvlQ"
   },
   "outputs": [],
   "source": [
    "elements = ['score', 'members', 'favorites', 'episodes','favorite_per_member']"
   ]
  },
  {
   "cell_type": "markdown",
   "metadata": {
    "id": "cXnCquMvMxNa"
   },
   "source": [
    "### Matriz de dispersão"
   ]
  },
  {
   "cell_type": "code",
   "execution_count": null,
   "metadata": {
    "id": "Dp3b5No6NH2C"
   },
   "outputs": [],
   "source": [
    "pd.plotting.scatter_matrix(animeList[elements], figsize=(15, 10));"
   ]
  },
  {
   "cell_type": "markdown",
   "metadata": {
    "id": "sZFTW1QBSiE2"
   },
   "source": [
    "Só pela matriz de dispersão, é possivel notar que a razão de favoritos por membros aparenta crescer \"linearmente\" em relação ao score"
   ]
  },
  {
   "cell_type": "markdown",
   "metadata": {
    "id": "kROOuZyNekh2"
   },
   "source": [
    "### Pearson"
   ]
  },
  {
   "cell_type": "code",
   "execution_count": null,
   "metadata": {
    "id": "NSnX48Oo_fKF"
   },
   "outputs": [],
   "source": [
    "figure = plt.figure(figsize=(15,10))\n",
    "sns.heatmap(animeList.corr(method='pearson'), annot=True)\n",
    "plt.show()"
   ]
  },
  {
   "cell_type": "markdown",
   "metadata": {
    "id": "T8t0tUSxe8_g"
   },
   "source": [
    "### Spearman"
   ]
  },
  {
   "cell_type": "code",
   "execution_count": null,
   "metadata": {
    "id": "euwMQf4kCMNr"
   },
   "outputs": [],
   "source": [
    "figure = plt.figure(figsize=(15,10))\n",
    "sns.heatmap(animeList.corr(method='spearman'), annot=True)\n",
    "plt.show()"
   ]
  },
  {
   "cell_type": "markdown",
   "metadata": {
    "id": "HP3-X6ofJUpm"
   },
   "source": [
    "A partir das correlações apresentadas, vemos que:\n",
    "- A quantidade de favoritos varia de acordo com a quantidade de membros\n",
    "- O Score é influenciado pela quantidade de favoritos\n",
    "- Pouco importa a quantidade de episódios pra determinar o score"
   ]
  },
  {
   "cell_type": "markdown",
   "metadata": {
    "id": "2H3rzLY6fECz"
   },
   "source": [
    "### Covariância"
   ]
  },
  {
   "cell_type": "code",
   "execution_count": null,
   "metadata": {
    "id": "LuWuQR7WQK5h"
   },
   "outputs": [],
   "source": [
    "figure = plt.figure(figsize=(15,10))\n",
    "sns.heatmap(animeList[elements].cov(), annot=True)\n",
    "plt.show()\n",
    "animeList.cov().head()"
   ]
  },
  {
   "cell_type": "code",
   "execution_count": null,
   "metadata": {
    "id": "CvoRjQqy8FHh"
   },
   "outputs": [],
   "source": [
    "animeList.head()"
   ]
  },
  {
   "cell_type": "markdown",
   "metadata": {
    "id": "KfBMP6a49EZ6"
   },
   "source": [
    "# Testes de normalidade e hipótese"
   ]
  },
  {
   "cell_type": "code",
   "execution_count": null,
   "metadata": {
    "id": "c-_fq69y9PQT"
   },
   "outputs": [],
   "source": [
    "score_notna = animeList[animeList['score'].notna()].score\n",
    "members_notna = animeList[animeList['members'].notna()].members\n",
    "favorites_notna = animeList[animeList['favorites'].notna()].favorites"
   ]
  },
  {
   "cell_type": "code",
   "execution_count": null,
   "metadata": {
    "id": "FY0O_OVMlsj9"
   },
   "outputs": [],
   "source": [
    "def generate_anderson(data):\n",
    "    result = stats.anderson(data)\n",
    "    print('Statistic: %.3f' % result.statistic)\n",
    "    p = 0\n",
    "    for i in range(len(result.critical_values)):\n",
    "      sl, cv = result.significance_level[i], result.critical_values[i]\n",
    "      if result.statistic < result.critical_values[i]:\n",
    "        print('%.3f: %.3f, data looks normal (fail to reject H0)' % (sl, cv))\n",
    "      else:\n",
    "        print('%.3f: %.3f, data does not look normal (reject H0)' % (sl, cv))"
   ]
  },
  {
   "cell_type": "markdown",
   "metadata": {
    "id": "4wR6cvW2LbKC"
   },
   "source": [
    "A análise por Anderson se viu necessária para verificação de normalidade, pela grande quantidade de dados presente na coleta, pois análise por Shapiro demonstra ser imprecisa para \n",
    "N > 5000"
   ]
  },
  {
   "cell_type": "code",
   "execution_count": null,
   "metadata": {
    "id": "wO-8PwbubOYj"
   },
   "outputs": [],
   "source": [
    "animeList.score.hist()\n",
    "generate_anderson(animeList.score)"
   ]
  },
  {
   "cell_type": "markdown",
   "metadata": {
    "id": "Bey2WtUiOlT4"
   },
   "source": [
    "Mesmo que o score aparenta ter um histograma com uma curva de Gauss, pelo teste de Anderson, a hipotese nula foi rejeitada."
   ]
  },
  {
   "cell_type": "code",
   "execution_count": null,
   "metadata": {
    "id": "PbockavaEWiN"
   },
   "outputs": [],
   "source": [
    "animeList.plot.scatter(x='members',y='score')"
   ]
  },
  {
   "cell_type": "code",
   "execution_count": null,
   "metadata": {
    "id": "fa18dkGU9wMX"
   },
   "outputs": [],
   "source": [
    "members_notna.hist()\n",
    "generate_anderson(members_notna)"
   ]
  },
  {
   "cell_type": "code",
   "execution_count": null,
   "metadata": {
    "id": "MmG0JTX895zB"
   },
   "outputs": [],
   "source": [
    "favorites_notna.hist()\n",
    "generate_anderson(favorites_notna)"
   ]
  },
  {
   "cell_type": "code",
   "execution_count": null,
   "metadata": {
    "id": "hwrdHqSU81tg"
   },
   "outputs": [],
   "source": [
    "animeList.members.hist()\n",
    "generate_anderson(animeList.members)"
   ]
  },
  {
   "cell_type": "markdown",
   "metadata": {
    "id": "_8oTfTWwpUV3"
   },
   "source": [
    "Nenhum dos dados seguem uma normal, logo o teste de hipotese a ser utilizado seria o mann-whitney, pois a comparação seria entre membros não-pariados e não-paremétricos"
   ]
  },
  {
   "cell_type": "markdown",
   "metadata": {
    "id": "h0gpbAqYS5Su"
   },
   "source": [
    "### Analise Comédia e Ação (Mais quantitativos)"
   ]
  },
  {
   "cell_type": "code",
   "execution_count": null,
   "metadata": {
    "id": "jhlKPeXQRzPj"
   },
   "outputs": [],
   "source": [
    "# Amostra de dados que são de Comédia, mas não de ação.\n",
    "animeList[~animeList['genres'].str.contains('Action') & animeList['genres'].str.contains('Comedy')].score.hist()\n",
    "animeList[~animeList['genres'].str.contains('Action') & animeList['genres'].str.contains('Comedy')].describe()"
   ]
  },
  {
   "cell_type": "code",
   "execution_count": null,
   "metadata": {
    "id": "MRSXenXjXsIY"
   },
   "outputs": [],
   "source": [
    "# Melhor anime cotado somente de Comedia\n",
    "animeList[(~animeList['genres'].str.contains('Action') & animeList['genres'].str.contains('Comedy')) & (animeList.score == 8.96)]"
   ]
  },
  {
   "cell_type": "code",
   "execution_count": null,
   "metadata": {
    "id": "D1cBXsaRYlpf"
   },
   "outputs": [],
   "source": [
    "# Pior anime cotado somente de Comedia\n",
    "animeList[(~animeList['genres'].str.contains('Action') & animeList['genres'].str.contains('Comedy')) & (animeList.score == 2.04)]"
   ]
  },
  {
   "cell_type": "code",
   "execution_count": null,
   "metadata": {
    "id": "lKaj0sgBSMEx"
   },
   "outputs": [],
   "source": [
    "# Amostra de dados que são de Ação, mas não de comédia.\n",
    "animeList[animeList['genres'].str.contains('Action') & ~animeList['genres'].str.contains('Comedy')].score.hist()\n",
    "animeList[animeList['genres'].str.contains('Action') & ~animeList['genres'].str.contains('Comedy')].describe()"
   ]
  },
  {
   "cell_type": "code",
   "execution_count": null,
   "metadata": {
    "id": "6wlfjgV4YxLm"
   },
   "outputs": [],
   "source": [
    "# Melhor anime cotado somente de Ação\n",
    "animeList[(animeList['genres'].str.contains('Action') & ~animeList['genres'].str.contains('Comedy')) & (animeList.score == 9.12)]"
   ]
  },
  {
   "cell_type": "code",
   "execution_count": null,
   "metadata": {
    "id": "wqXny3qAY43K"
   },
   "outputs": [],
   "source": [
    "# Pior anime cotado somente de Ação\n",
    "animeList[(animeList['genres'].str.contains('Action') & ~animeList['genres'].str.contains('Comedy')) & (animeList.score == 3.16)]"
   ]
  },
  {
   "cell_type": "code",
   "execution_count": null,
   "metadata": {
    "id": "N6C6tmu_IxtG"
   },
   "outputs": [],
   "source": [
    "# Diferença de descrição\n",
    "animeList[animeList['genres'].str.contains('Action') & ~animeList['genres'].str.contains('Comedy')].describe() - animeList[~animeList['genres'].str.contains('Action') & animeList['genres'].str.contains('Comedy')].describe()"
   ]
  },
  {
   "cell_type": "code",
   "execution_count": null,
   "metadata": {
    "id": "RPN9Z-9CDVaZ"
   },
   "outputs": [],
   "source": [
    "animeList[~animeList['genres'].str.contains('Action') & animeList['genres'].str.contains('Comedy')].describe()/animeList[animeList['genres'].str.contains('Action') & ~animeList['genres'].str.contains('Comedy')].describe()"
   ]
  },
  {
   "cell_type": "code",
   "execution_count": null,
   "metadata": {
    "id": "VR266Fv3w4gR"
   },
   "outputs": [],
   "source": [
    "# Score\n",
    "stats.mannwhitneyu(animeList[~animeList['genres'].str.contains('Action') & animeList['genres'].str.contains('Comedy')].score,animeList[~animeList['genres'].str.contains('Comedy') & animeList['genres'].str.contains('Action')].score)"
   ]
  },
  {
   "cell_type": "code",
   "execution_count": null,
   "metadata": {
    "id": "DpEpGIEzC3SN"
   },
   "outputs": [],
   "source": [
    "# Members\n",
    "stats.mannwhitneyu(animeList[~animeList['genres'].str.contains('Action') & animeList['genres'].str.contains('Comedy')].members,animeList[~animeList['genres'].str.contains('Comedy') & animeList['genres'].str.contains('Action')].members)"
   ]
  },
  {
   "cell_type": "markdown",
   "metadata": {
    "id": "RSJk6LNGNKM_"
   },
   "source": [
    "A partir da comparação dos 2 gêneros mais populares, vemos que:\n",
    "- A diferença entre scores não são tão absurdas\n",
    "- Em mediana, animes de ação que não são comédia possui nota ligeiramente menor\n",
    "- Animes de ação normalmente possuem uma comunidade maior, tanto em membros quanto em favoritos.\n",
    "- Pelo teste de hipotese, vemos que os dados não são iguais, tendo o pvalue um valor pequeno"
   ]
  },
  {
   "cell_type": "markdown",
   "metadata": {
    "id": "SVu7FWshTA1C"
   },
   "source": [
    "### Analise Shounen e Mistério (Maiores médias)"
   ]
  },
  {
   "cell_type": "code",
   "execution_count": null,
   "metadata": {
    "id": "yfZyiLduVsWt"
   },
   "outputs": [],
   "source": [
    "# Amostra de dados do que são de Mistério, mas não de Shounen (Ação para garotos adolescentes)\n",
    "animeList[~animeList['genres'].str.contains('Shounen') & animeList['genres'].str.contains('Mystery')].score.hist()\n",
    "animeList[~animeList['genres'].str.contains('Shounen') & animeList['genres'].str.contains('Mystery')].describe()"
   ]
  },
  {
   "cell_type": "code",
   "execution_count": null,
   "metadata": {
    "id": "eeBiekl9ZBUY"
   },
   "outputs": [],
   "source": [
    "# Melhor anime cotado somente de Mistério\n",
    "animeList[(~animeList['genres'].str.contains('Shounen') & animeList['genres'].str.contains('Mystery')) & (animeList.score == 8.93)]"
   ]
  },
  {
   "cell_type": "code",
   "execution_count": null,
   "metadata": {
    "id": "jDhzrXrhZYH1"
   },
   "outputs": [],
   "source": [
    "# Pior anime cotado somente de Mistério\n",
    "animeList[(~animeList['genres'].str.contains('Shounen') & animeList['genres'].str.contains('Mystery')) & (animeList.score == 3.40)]"
   ]
  },
  {
   "cell_type": "code",
   "execution_count": null,
   "metadata": {
    "id": "mM8LmW0PWiuV"
   },
   "outputs": [],
   "source": [
    "# Amostra de dados do que são de 'Ação para adolescentes masculinos', mas não de Mistério\n",
    "animeList[animeList['genres'].str.contains('Shounen') & ~animeList['genres'].str.contains('Mystery')].score.hist()\n",
    "animeList[(animeList['genres'].str.contains('Shounen') & ~animeList['genres'].str.contains('Mystery'))].describe()"
   ]
  },
  {
   "cell_type": "code",
   "execution_count": null,
   "metadata": {
    "id": "zIRzwARzZjp3"
   },
   "outputs": [],
   "source": [
    "# Melhor anime cotado somente de Luta\n",
    "animeList[(animeList['genres'].str.contains('Shounen') & ~animeList['genres'].str.contains('Mystery')) & (animeList.score == 9.22)]"
   ]
  },
  {
   "cell_type": "code",
   "execution_count": null,
   "metadata": {
    "id": "jJ3BxNY8ZpHu"
   },
   "outputs": [],
   "source": [
    "# Pior anime cotado somente de Luta\n",
    "animeList[(animeList['genres'].str.contains('Shounen') & ~animeList['genres'].str.contains('Mystery')) & (animeList.score == 3.52)]"
   ]
  },
  {
   "cell_type": "code",
   "execution_count": null,
   "metadata": {
    "id": "GPhdT7iLPNoJ"
   },
   "outputs": [],
   "source": [
    "animeList[animeList['genres'].str.contains('Shounen') & ~animeList['genres'].str.contains('Mystery')].describe() - animeList[~animeList['genres'].str.contains('Shounen') & animeList['genres'].str.contains('Mystery')].describe()"
   ]
  },
  {
   "cell_type": "code",
   "execution_count": null,
   "metadata": {
    "id": "etMCUsE0EYpq"
   },
   "outputs": [],
   "source": [
    "# Porcentagens\n",
    "animeList[animeList['genres'].str.contains('Shounen') & ~animeList['genres'].str.contains('Mystery')].describe()/animeList[~animeList['genres'].str.contains('Shounen') & animeList['genres'].str.contains('Mystery')].describe()"
   ]
  },
  {
   "cell_type": "code",
   "execution_count": null,
   "metadata": {
    "id": "sWyy49KEyNYo"
   },
   "outputs": [],
   "source": [
    "# Score\n",
    "stats.mannwhitneyu(animeList[~animeList['genres'].str.contains('Shounen') & animeList['genres'].str.contains('Mystery')].score,animeList[~animeList['genres'].str.contains('Mystery') & animeList['genres'].str.contains('Shounen')].score)"
   ]
  },
  {
   "cell_type": "code",
   "execution_count": null,
   "metadata": {
    "id": "qZbYpqV8CdWj"
   },
   "outputs": [],
   "source": [
    "# Members\n",
    "stats.mannwhitneyu(animeList[~animeList['genres'].str.contains('Shounen') & animeList['genres'].str.contains('Mystery')].members,animeList[~animeList['genres'].str.contains('Mystery') & animeList['genres'].str.contains('Shounen')].members)"
   ]
  },
  {
   "cell_type": "markdown",
   "metadata": {
    "id": "zgEA3EifO4TF"
   },
   "source": [
    "A partir da comparação dos 2° e 3° gêneros de maior media e mediana vemos que:\n",
    "- Em maioria, o público prefere animes de Mistério que não são Shounen.\n",
    "- Comunidades de animes de Mistério normalmente são maiores.\n",
    "- Animes de mistério normalmente possuem score maior.\n",
    "- Pelo teste de hipotese, vemos que os dados não são iguais, pois o p-value teve um valor pequeno, sendo a hipotese nula rejeitada"
   ]
  },
  {
   "cell_type": "markdown",
   "metadata": {
    "id": "ogWV6PWlTIhg"
   },
   "source": [
    "### Analise Egg Firm e Studio Chizu (Estúdios com as maiores médias)"
   ]
  },
  {
   "cell_type": "code",
   "execution_count": null,
   "metadata": {
    "id": "peJwvxqVcmcl"
   },
   "outputs": [],
   "source": [
    "animeList[animeList['studios'].str.contains('Egg Firm')].describe()"
   ]
  },
  {
   "cell_type": "code",
   "execution_count": null,
   "metadata": {
    "id": "7OablUGcfU9j"
   },
   "outputs": [],
   "source": [
    "animeList[animeList['studios'].str.contains('Egg Firm')]"
   ]
  },
  {
   "cell_type": "code",
   "execution_count": null,
   "metadata": {
    "id": "2tuKaSB1dcBY"
   },
   "outputs": [],
   "source": [
    "animeList[animeList['studio'] == 'Studio Chizu'].describe()"
   ]
  },
  {
   "cell_type": "code",
   "execution_count": null,
   "metadata": {
    "id": "f8wnkRsahZo7"
   },
   "outputs": [],
   "source": [
    "animeList[animeList['studio'] == 'Studio Chizu']"
   ]
  },
  {
   "cell_type": "code",
   "execution_count": null,
   "metadata": {
    "id": "Dpe1J-FigfYK"
   },
   "outputs": [],
   "source": [
    "animeList[animeList['genres'].str.contains('Comedy') & animeList['genres'].str.contains('Supernatural')].score.median()"
   ]
  },
  {
   "cell_type": "code",
   "execution_count": null,
   "metadata": {
    "id": "MukuEdRrBAjF"
   },
   "outputs": [],
   "source": [
    "#Score\n",
    "stats.mannwhitneyu(animeList[animeList['studio'] == 'Studio Chizu'].score,animeList[animeList['studios'].str.contains('Egg Firm')].score)"
   ]
  },
  {
   "cell_type": "code",
   "execution_count": null,
   "metadata": {
    "id": "yFrQ_TYCB4qH"
   },
   "outputs": [],
   "source": [
    "#Membros\n",
    "stats.mannwhitneyu(animeList[animeList['studio'] == 'Studio Chizu'].members,animeList[animeList['studios'].str.contains('Egg Firm')].members)"
   ]
  },
  {
   "cell_type": "markdown",
   "metadata": {
    "id": "8A3l29K2exeH"
   },
   "source": [
    "Para os estudios de maior média, não há tanto a se comparar, pela quantidade de animes criados por cada um, porém, é notável que:\n",
    "- **Studio Chizu** normalmente é um estudio de filmes (Só realizou filmes até então)\n",
    "- **Egg Firm**, juntamente a **J.C. Staff** produziram Saiki no Kusuo, um famoso anime lançado em 28 de Dezembro  de 2018 com maior foco em comédia e sobrenatural (poderes psiquicos), generos dos quais possuem uma média de score alta.\n",
    "- **Studio Chizu** em maioria realiza filmes de Fantasia, onde 'Bakemono no Ko' é o único que não possui o gênero de fantasia no MyAnimeList, porém, ao nosso ver, pode ser considerado também deste genero, tendo em vista que se trata de um garoto que vai para um mundo onde há somente monstros."
   ]
  },
  {
   "cell_type": "markdown",
   "metadata": {
    "id": "kO_g44LeT8bH"
   },
   "source": [
    "### Amostra de dados quantitativos de gêneros de Toei Animation, Sunrise e Madhouse"
   ]
  },
  {
   "cell_type": "code",
   "execution_count": null,
   "metadata": {
    "id": "FJsdZlwHvl5g"
   },
   "outputs": [],
   "source": [
    "# Quantidade de animes feitos por gênero pela 'Toei Animation'\n",
    "tempGenres = animeList[(animeList['studio'] == 'Toei Animation')].explode(\"genresList\")\n",
    "tempGenres['genresList'] = tempGenres['genresList'].astype('category')\n",
    "tempGenres['genresList'].value_counts()[1:10]"
   ]
  },
  {
   "cell_type": "code",
   "execution_count": null,
   "metadata": {
    "id": "x9csW-ovHKTO"
   },
   "outputs": [],
   "source": [
    "# Quantidade de animes feitos por gênero pela 'Sunrise'\n",
    "tempGenres = animeList[(animeList['studio'] == 'Sunrise')].explode(\"genresList\")\n",
    "tempGenres['genresList'] = tempGenres['genresList'].astype('category')\n",
    "tempGenres['genresList'].value_counts()[1:10]"
   ]
  },
  {
   "cell_type": "code",
   "execution_count": null,
   "metadata": {
    "id": "BuGvyZpSHURh"
   },
   "outputs": [],
   "source": [
    "# Quantidade de animes feitos por gênero pela 'Madhouse'\n",
    "tempGenres = animeList[(animeList['studio'] == 'Madhouse')].explode(\"genresList\")\n",
    "tempGenres['genresList'] = tempGenres['genresList'].astype('category')\n",
    "tempGenres['genresList'].value_counts()[1:10]"
   ]
  },
  {
   "cell_type": "markdown",
   "metadata": {
    "id": "yApsCtlmLOx0"
   },
   "source": [
    "Com o top 10 de animes mais feitos pelos estúdios 'Toei Animation','Sunrise' e 'Madhouse', temos alguns gêneros em comum como:\n",
    "- Action    :[224,213,106]\n",
    "- Comedy    :[207,110,120]\n",
    "- Shounen   :[201,87  ,53]"
   ]
  },
  {
   "cell_type": "markdown",
   "metadata": {
    "id": "1yq4sCnsSl2d"
   },
   "source": [
    "### Analise Toei Animation e Sunrise"
   ]
  },
  {
   "cell_type": "code",
   "execution_count": null,
   "metadata": {
    "id": "UVHPwd_LN1Gv"
   },
   "outputs": [],
   "source": [
    "# Toei e Sunrise\n",
    "stats.mannwhitneyu(animeList[(animeList['studio'] == 'Toei Animation') & (animeList['genres'].str.contains('Action'))].score,animeList[(animeList['studio'] == 'Sunrise') & (animeList['genres'].str.contains('Action'))].score)"
   ]
  },
  {
   "cell_type": "code",
   "execution_count": null,
   "metadata": {
    "id": "HEP8QKvAQeMA"
   },
   "outputs": [],
   "source": [
    "animeList[(animeList['studio'] == 'Toei Animation') & (animeList['genres'].str.contains('Action'))].score.hist()"
   ]
  },
  {
   "cell_type": "code",
   "execution_count": null,
   "metadata": {
    "id": "gAWGCDosRCji"
   },
   "outputs": [],
   "source": [
    "animeList[(animeList['studio'] == 'Toei Animation') & (animeList['genres'].str.contains('Action'))].describe()"
   ]
  },
  {
   "cell_type": "code",
   "execution_count": null,
   "metadata": {
    "id": "8CNPb8hQQ3oT"
   },
   "outputs": [],
   "source": [
    "animeList[(animeList['studio'] == 'Sunrise') & (animeList['genres'].str.contains('Action'))].score.hist()"
   ]
  },
  {
   "cell_type": "code",
   "execution_count": null,
   "metadata": {
    "id": "2DRNdtLqRKNO"
   },
   "outputs": [],
   "source": [
    "animeList[(animeList['studio'] == 'Sunrise') & (animeList['genres'].str.contains('Action'))].describe()"
   ]
  },
  {
   "cell_type": "code",
   "execution_count": null,
   "metadata": {
    "id": "bjYWC31fRWx8"
   },
   "outputs": [],
   "source": [
    "animeList[(animeList['studio'] == 'Toei Animation') & (animeList['genres'].str.contains('Action'))].describe() - animeList[(animeList['studio'] == 'Sunrise') & (animeList['genres'].str.contains('Action'))].describe()"
   ]
  },
  {
   "cell_type": "code",
   "execution_count": null,
   "metadata": {
    "id": "vXJYCN_zEyTu"
   },
   "outputs": [],
   "source": [
    "animeList[(animeList['studio'] == 'Toei Animation') & (animeList['genres'].str.contains('Action'))].describe()/animeList[(animeList['studio'] == 'Sunrise') & (animeList['genres'].str.contains('Action'))].describe()"
   ]
  },
  {
   "cell_type": "markdown",
   "metadata": {
    "id": "TjyQi423TwfZ"
   },
   "source": [
    "Para animes de Ação, a **Sunrise** possui vantagem de score em todos os pontos, além de possuir comunidade ligeiramente maior no 1° e 3° quartil (20% e 9% respectivamente)"
   ]
  },
  {
   "cell_type": "code",
   "execution_count": null,
   "metadata": {
    "id": "pc9TJhBorg6y"
   },
   "outputs": [],
   "source": [
    "# Toei e Sunrise\n",
    "stats.mannwhitneyu(animeList[(animeList['studio'] == 'Toei Animation') & (animeList['genres'].str.contains('Comedy'))].score,animeList[(animeList['studio'] == 'Sunrise') & (animeList['genres'].str.contains('Comedy'))].score)"
   ]
  },
  {
   "cell_type": "code",
   "execution_count": null,
   "metadata": {
    "id": "ZwKfDL9HsY4J"
   },
   "outputs": [],
   "source": [
    "animeList[(animeList['studio'] == 'Toei Animation') & (animeList['genres'].str.contains('Comedy'))].score.hist()"
   ]
  },
  {
   "cell_type": "code",
   "execution_count": null,
   "metadata": {
    "id": "ylJE4nkEsaSD"
   },
   "outputs": [],
   "source": [
    "animeList[(animeList['studio'] == 'Sunrise') & (animeList['genres'].str.contains('Comedy'))].score.hist()"
   ]
  },
  {
   "cell_type": "code",
   "execution_count": null,
   "metadata": {
    "id": "c0Y43w00soaq"
   },
   "outputs": [],
   "source": [
    "animeList[(animeList['studio'] == 'Toei Animation') & (animeList['genres'].str.contains('Comedy'))].describe()"
   ]
  },
  {
   "cell_type": "code",
   "execution_count": null,
   "metadata": {
    "id": "c5_rgeLVskr4"
   },
   "outputs": [],
   "source": [
    "animeList[(animeList['studio'] == 'Sunrise') & (animeList['genres'].str.contains('Comedy'))].describe()"
   ]
  },
  {
   "cell_type": "code",
   "execution_count": null,
   "metadata": {
    "id": "YWNAV_-Vs3GD"
   },
   "outputs": [],
   "source": [
    "animeList[(animeList['studio'] == 'Toei Animation') & (animeList['genres'].str.contains('Comedy'))].describe() - animeList[(animeList['studio'] == 'Sunrise') & (animeList['genres'].str.contains('Comedy'))].describe()"
   ]
  },
  {
   "cell_type": "code",
   "execution_count": null,
   "metadata": {
    "id": "D-aYd0TCFH5T"
   },
   "outputs": [],
   "source": [
    "animeList[(animeList['studio'] == 'Sunrise') & (animeList['genres'].str.contains('Comedy'))].describe()/animeList[(animeList['studio'] == 'Toei Animation') & (animeList['genres'].str.contains('Comedy'))].describe()"
   ]
  },
  {
   "cell_type": "markdown",
   "metadata": {
    "id": "brUwHGgnwIvX"
   },
   "source": [
    "Para animes de comédia, a **Sunrise** possui grande vantagem de score em quase todos os pontos, porém sua comunidade é menor, tendo em vista a menor quantidade de membros para 2° e o 3° quartil (46% e 21% respectivamente)"
   ]
  },
  {
   "cell_type": "code",
   "execution_count": null,
   "metadata": {
    "id": "jqxgGAPjrtgU"
   },
   "outputs": [],
   "source": [
    "# Toei e Sunrise\n",
    "stats.mannwhitneyu(animeList[(animeList['studio'] == 'Toei Animation') & (animeList['genres'].str.contains('Shounen'))].score,animeList[(animeList['studio'] == 'Sunrise') & (animeList['genres'].str.contains('Shounen'))].score)"
   ]
  },
  {
   "cell_type": "code",
   "execution_count": null,
   "metadata": {
    "id": "NzXcj7qqte4n"
   },
   "outputs": [],
   "source": [
    "animeList[(animeList['studio'] == 'Toei Animation') & (animeList['genres'].str.contains('Shounen'))].score.hist()"
   ]
  },
  {
   "cell_type": "code",
   "execution_count": null,
   "metadata": {
    "id": "GlZwFc7stjt7"
   },
   "outputs": [],
   "source": [
    "animeList[(animeList['studio'] == 'Sunrise') & (animeList['genres'].str.contains('Shounen'))].score.hist()"
   ]
  },
  {
   "cell_type": "code",
   "execution_count": null,
   "metadata": {
    "id": "1UnsHKmdtvZi"
   },
   "outputs": [],
   "source": [
    "animeList[(animeList['studio'] == 'Toei Animation') & (animeList['genres'].str.contains('Shounen'))].describe()"
   ]
  },
  {
   "cell_type": "code",
   "execution_count": null,
   "metadata": {
    "id": "IiOelBzWtsR1"
   },
   "outputs": [],
   "source": [
    "animeList[(animeList['studio'] == 'Sunrise') & (animeList['genres'].str.contains('Shounen'))].describe()"
   ]
  },
  {
   "cell_type": "code",
   "execution_count": null,
   "metadata": {
    "id": "kVnC707Kt2jI"
   },
   "outputs": [],
   "source": [
    "animeList[(animeList['studio'] == 'Toei Animation') & (animeList['genres'].str.contains('Shounen'))].describe() - animeList[(animeList['studio'] == 'Sunrise') & (animeList['genres'].str.contains('Shounen'))].describe()"
   ]
  },
  {
   "cell_type": "code",
   "execution_count": null,
   "metadata": {
    "id": "Jk39P27xFZLC"
   },
   "outputs": [],
   "source": [
    "animeList[(animeList['studio'] == 'Sunrise') & (animeList['genres'].str.contains('Shounen'))].describe()/animeList[(animeList['studio'] == 'Toei Animation') & (animeList['genres'].str.contains('Shounen'))].describe()"
   ]
  },
  {
   "cell_type": "markdown",
   "metadata": {
    "id": "JU6sqyrqw9Vm"
   },
   "source": [
    "Para animes de Shounen, a **Sunrise** possui vantagem de score em todos os quartis, porém, novamente sua comunidade é menor, tendo em vista a menor quantidade de membros para 1°, 2° e o 3° quartil (57%, 68% e 40%)"
   ]
  },
  {
   "cell_type": "markdown",
   "metadata": {
    "id": "emTgfb5Fxvcz"
   },
   "source": [
    "Desta forma temos que\n",
    "- De forma geral, Sunrise tem maior \"qualidade\" entre os animes\n",
    "- Animes da **Toei Animation** alcança um publico maior\n",
    "- Animes de ação da **Sunrise** são mais propensos a sucesso, tanto em qualidade quanto em alcance da comunidade\n",
    "- Dados não são identicos, tendo em vista que nenhum teste normal possuiu p-value alto"
   ]
  },
  {
   "cell_type": "markdown",
   "metadata": {
    "id": "0ud6cJnZTbD2"
   },
   "source": [
    "### Analise Toei Animation e Madhouse"
   ]
  },
  {
   "cell_type": "code",
   "execution_count": null,
   "metadata": {
    "id": "WcJ5iWnEPaRV"
   },
   "outputs": [],
   "source": [
    "# Toei e Madhouse\n",
    "stats.mannwhitneyu(animeList[(animeList['studio'] == 'Toei Animation') & (animeList['genres'].str.contains('Action'))].score,animeList[(animeList['studio'] == 'Madhouse') & (animeList['genres'].str.contains('Action'))].score)"
   ]
  },
  {
   "cell_type": "code",
   "execution_count": null,
   "metadata": {
    "id": "gRrxP2nN0IVv"
   },
   "outputs": [],
   "source": [
    "animeList[(animeList['studio'] == 'Madhouse') & (animeList['genres'].str.contains('Action'))].score.hist()"
   ]
  },
  {
   "cell_type": "code",
   "execution_count": null,
   "metadata": {
    "id": "f9kcslZk0PzF"
   },
   "outputs": [],
   "source": [
    "animeList[(animeList['studio'] == 'Madhouse') & (animeList['genres'].str.contains('Action'))].describe()"
   ]
  },
  {
   "cell_type": "code",
   "execution_count": null,
   "metadata": {
    "id": "WyLTZWhi0Ri0"
   },
   "outputs": [],
   "source": [
    "animeList[(animeList['studio'] == 'Toei Animation') & (animeList['genres'].str.contains('Action'))].describe() - animeList[(animeList['studio'] == 'Madhouse') & (animeList['genres'].str.contains('Action'))].describe()"
   ]
  },
  {
   "cell_type": "code",
   "execution_count": null,
   "metadata": {
    "id": "4ineDUWBFpVN"
   },
   "outputs": [],
   "source": [
    "animeList[(animeList['studio'] == 'Toei Animation') & (animeList['genres'].str.contains('Action'))].describe()/animeList[(animeList['studio'] == 'Madhouse') & (animeList['genres'].str.contains('Action'))].describe()"
   ]
  },
  {
   "cell_type": "markdown",
   "metadata": {
    "id": "-w85kCcvFy_w"
   },
   "source": [
    "Animes de ação da **Toei Animation** normalmente possui score ligeiramente menor em relação a **Madhouse**, e comunidade menor em todos os quartis (60%, 58% e 65%)"
   ]
  },
  {
   "cell_type": "code",
   "execution_count": null,
   "metadata": {
    "id": "jJ0dX4coydER"
   },
   "outputs": [],
   "source": [
    "# Toei e Madhouse\n",
    "stats.mannwhitneyu(animeList[(animeList['studio'] == 'Toei Animation') & (animeList['genres'].str.contains('Comedy'))].score,animeList[(animeList['studio'] == 'Madhouse') & (animeList['genres'].str.contains('Comedy'))].score)"
   ]
  },
  {
   "cell_type": "code",
   "execution_count": null,
   "metadata": {
    "id": "zdmlcRAj0wXb"
   },
   "outputs": [],
   "source": [
    "animeList[(animeList['studio'] == 'Madhouse') & (animeList['genres'].str.contains('Comedy'))].score.hist()"
   ]
  },
  {
   "cell_type": "code",
   "execution_count": null,
   "metadata": {
    "id": "YC44EJ2x0ru3"
   },
   "outputs": [],
   "source": [
    "animeList[(animeList['studio'] == 'Madhouse') & (animeList['genres'].str.contains('Comedy'))].describe()"
   ]
  },
  {
   "cell_type": "code",
   "execution_count": null,
   "metadata": {
    "id": "o8BUy_PP08cm"
   },
   "outputs": [],
   "source": [
    "animeList[(animeList['studio'] == 'Toei Animation') & (animeList['genres'].str.contains('Comedy'))].describe() - animeList[(animeList['studio'] == 'Madhouse') & (animeList['genres'].str.contains('Comedy'))].describe()"
   ]
  },
  {
   "cell_type": "code",
   "execution_count": null,
   "metadata": {
    "id": "iC2Dnm1zI_tP"
   },
   "outputs": [],
   "source": [
    "animeList[(animeList['studio'] == 'Toei Animation') & (animeList['genres'].str.contains('Comedy'))].describe()/animeList[(animeList['studio'] == 'Madhouse') & (animeList['genres'].str.contains('Comedy'))].describe()"
   ]
  },
  {
   "cell_type": "markdown",
   "metadata": {
    "id": "xHITd-qBJnmG"
   },
   "source": [
    "Os animes da **Toei Animation** de comédia possuem scores ligeiramente menores em relação a **Madhouse**, porém, em comunidade é menor em seus quartis (33%, 8%, 36%)"
   ]
  },
  {
   "cell_type": "code",
   "execution_count": null,
   "metadata": {
    "id": "0JVFYKQdyhQs"
   },
   "outputs": [],
   "source": [
    "# Toei e Madhouse\n",
    "stats.mannwhitneyu(animeList[(animeList['studio'] == 'Toei Animation') & (animeList['genres'].str.contains('Shounen'))].score,animeList[(animeList['studio'] == 'Madhouse') & (animeList['genres'].str.contains('Shounen'))].score)"
   ]
  },
  {
   "cell_type": "code",
   "execution_count": null,
   "metadata": {
    "id": "qRzJMncd-AWL"
   },
   "outputs": [],
   "source": [
    "animeList[(animeList['studio'] == 'Madhouse') & (animeList['genres'].str.contains('Shounen'))].score.hist()"
   ]
  },
  {
   "cell_type": "code",
   "execution_count": null,
   "metadata": {
    "id": "eCZv-qnL-DZi"
   },
   "outputs": [],
   "source": [
    "animeList[(animeList['studio'] == 'Madhouse') & (animeList['genres'].str.contains('Shounen'))].describe()"
   ]
  },
  {
   "cell_type": "code",
   "execution_count": null,
   "metadata": {
    "id": "GJPhSyL9-E6D"
   },
   "outputs": [],
   "source": [
    "animeList[(animeList['studio'] == 'Toei Animation') & (animeList['genres'].str.contains('Shounen'))].describe() - animeList[(animeList['studio'] == 'Madhouse') & (animeList['genres'].str.contains('Shounen'))].describe()"
   ]
  },
  {
   "cell_type": "code",
   "execution_count": null,
   "metadata": {
    "id": "UAZbLglZJ9ur"
   },
   "outputs": [],
   "source": [
    "animeList[(animeList['studio'] == 'Toei Animation') & (animeList['genres'].str.contains('Shounen'))].describe()/animeList[(animeList['studio'] == 'Madhouse') & (animeList['genres'].str.contains('Shounen'))].describe()"
   ]
  },
  {
   "cell_type": "markdown",
   "metadata": {
    "id": "bC1STQxFLAnL"
   },
   "source": [
    "Para animes do gênero de Shounen, **Toei Animation** possui scores ligeiramente menores, além de uma comunidade menor em todos os quartis (53%, 55%, 45%)"
   ]
  },
  {
   "cell_type": "markdown",
   "metadata": {
    "id": "X7H6L3HrLYzu"
   },
   "source": [
    "Temos então na comparação da **Toei Animation** com a **Madhouse** que:\n",
    "- Animes da **Toei Animation** geralmente possuem score ligeiramente menor\n",
    "- O alcance dos animes da **Madhouse**,em sua maioria, é maior, tendo em vista uma quantidade de membros maior.\n",
    "- Os dados não são identicos por possuir p-value muito baixo"
   ]
  },
  {
   "cell_type": "markdown",
   "metadata": {
    "id": "AUfbXMyATgbq"
   },
   "source": [
    "### Analise Sunrise e Madhouse"
   ]
  },
  {
   "cell_type": "code",
   "execution_count": null,
   "metadata": {
    "id": "uUA6yf8hPk-X"
   },
   "outputs": [],
   "source": [
    "# Sunrise e Madhouse\n",
    "stats.mannwhitneyu(animeList[(animeList['studio'] == 'Sunrise') & (animeList['genres'].str.contains('Action'))].score,animeList[(animeList['studio'] == 'Madhouse') & (animeList['genres'].str.contains('Action'))].score)"
   ]
  },
  {
   "cell_type": "code",
   "execution_count": null,
   "metadata": {
    "id": "efrIsm65MqjU"
   },
   "outputs": [],
   "source": [
    "animeList[(animeList['studio'] == 'Sunrise') & (animeList['genres'].str.contains('Action'))].describe()-animeList[(animeList['studio'] == 'Madhouse') & (animeList['genres'].str.contains('Action'))].describe()"
   ]
  },
  {
   "cell_type": "code",
   "execution_count": null,
   "metadata": {
    "id": "35BjN-yHNnbu"
   },
   "outputs": [],
   "source": [
    "animeList[(animeList['studio'] == 'Sunrise') & (animeList['genres'].str.contains('Action'))].describe()/animeList[(animeList['studio'] == 'Madhouse') & (animeList['genres'].str.contains('Action'))].describe()"
   ]
  },
  {
   "cell_type": "markdown",
   "metadata": {
    "id": "ZkJfeAx2Nw7g"
   },
   "source": [
    "Em relação aos animes de Ação, a **Sunrise** possui scores ligeiramente maiores aos da **Madhouse**, porém, sua comunidade é bem menor em relação aos da 'Madhouse', tendo em seus quartis uma comunidade (40%, 64%, 61%) maior."
   ]
  },
  {
   "cell_type": "code",
   "execution_count": null,
   "metadata": {
    "id": "VaJo_o5_yofQ"
   },
   "outputs": [],
   "source": [
    "# Sunrise e Madhouse\n",
    "stats.mannwhitneyu(animeList[(animeList['studio'] == 'Sunrise') & (animeList['genres'].str.contains('Comedy'))].score,animeList[(animeList['studio'] == 'Madhouse') & (animeList['genres'].str.contains('Comedy'))].score)"
   ]
  },
  {
   "cell_type": "code",
   "execution_count": null,
   "metadata": {
    "id": "QU0br-nDOMEq"
   },
   "outputs": [],
   "source": [
    "animeList[(animeList['studio'] == 'Sunrise') & (animeList['genres'].str.contains('Comedy'))].describe()-animeList[(animeList['studio'] == 'Madhouse') & (animeList['genres'].str.contains('Comedy'))].describe()"
   ]
  },
  {
   "cell_type": "code",
   "execution_count": null,
   "metadata": {
    "id": "WNO-pADaOVEP"
   },
   "outputs": [],
   "source": [
    "animeList[(animeList['studio'] == 'Sunrise') & (animeList['genres'].str.contains('Comedy'))].describe()/animeList[(animeList['studio'] == 'Madhouse') & (animeList['genres'].str.contains('Comedy'))].describe()"
   ]
  },
  {
   "cell_type": "markdown",
   "metadata": {
    "id": "UC51YgjSOe6y"
   },
   "source": [
    "Em relação a Comédia, novamente, animes da **Sunrise** possuem score ligeiramente maior em relação a **Madhouse**, e uma comunidade menor em seus quartis (28%, 50%, 50%)"
   ]
  },
  {
   "cell_type": "code",
   "execution_count": null,
   "metadata": {
    "id": "GOGF8TR8ysCL"
   },
   "outputs": [],
   "source": [
    "# Sunrise e Madhouse\n",
    "stats.mannwhitneyu(animeList[(animeList['studio'] == 'Sunrise') & (animeList['genres'].str.contains('Shounen'))].score,animeList[(animeList['studio'] == 'Madhouse') & (animeList['genres'].str.contains('Shounen'))].score)"
   ]
  },
  {
   "cell_type": "code",
   "execution_count": null,
   "metadata": {
    "id": "bUJbAHChPEM0"
   },
   "outputs": [],
   "source": [
    "animeList[(animeList['studio'] == 'Sunrise') & (animeList['genres'].str.contains('Shounen'))].describe()-animeList[(animeList['studio'] == 'Madhouse') & (animeList['genres'].str.contains('Shounen'))].describe()"
   ]
  },
  {
   "cell_type": "code",
   "execution_count": null,
   "metadata": {
    "id": "2_RhdxJuPNT0"
   },
   "outputs": [],
   "source": [
    "animeList[(animeList['studio'] == 'Sunrise') & (animeList['genres'].str.contains('Shounen'))].describe()/animeList[(animeList['studio'] == 'Madhouse') & (animeList['genres'].str.contains('Shounen'))].describe()"
   ]
  },
  {
   "cell_type": "markdown",
   "metadata": {
    "id": "9iSBnVxIPpkD"
   },
   "source": [
    "Para animes de Shounen, temos novamente a **Sunrise** como animes de maior score, e a **Madhouse** com a comunidade muito maior em seus quartis (80%, 86%, 67%)\n",
    "Realizando uma pequena pesquisa a **Madhouse** realizou a animação de animes muito famosos como:\n",
    "- Hunter X Hunter\n",
    "- Overlord\n",
    "- One Punch Man\n",
    "- No game no life\n",
    "\n",
    "Talvez desta forma as pessoas venham a se interessar para ir mais a fundo em produções de gênero parecido deste estúdio, resultando sua grande popularidade em animes distintos."
   ]
  },
  {
   "cell_type": "markdown",
   "metadata": {
    "id": "x3cPVXhxUA5W"
   },
   "source": [
    "## Score Plot dos estúdios analisados"
   ]
  },
  {
   "cell_type": "code",
   "execution_count": null,
   "metadata": {
    "id": "2v1s4kJuTeTk"
   },
   "outputs": [],
   "source": [
    "animeList[(animeList['studio'] == 'Sunrise')].score.plot.box()"
   ]
  },
  {
   "cell_type": "code",
   "execution_count": null,
   "metadata": {
    "id": "A5yIdZM_Tsnl"
   },
   "outputs": [],
   "source": [
    "animeList[(animeList['studio'] == 'Madhouse')].score.plot.box()"
   ]
  },
  {
   "cell_type": "code",
   "execution_count": null,
   "metadata": {
    "id": "qgZfwDP_TxhZ"
   },
   "outputs": [],
   "source": [
    "animeList[(animeList['studio'] == 'Toei Animation')].score.plot.box()"
   ]
  },
  {
   "cell_type": "markdown",
   "metadata": {
    "id": "XUJB_XGHUF6K"
   },
   "source": [
    "### Members Plot dos estúdios analisados"
   ]
  },
  {
   "cell_type": "code",
   "execution_count": null,
   "metadata": {
    "id": "e4nju7XJUVz-"
   },
   "outputs": [],
   "source": [
    "animeList[(animeList['studio'] == 'Sunrise')].membersLogNorm.plot.box()"
   ]
  },
  {
   "cell_type": "code",
   "execution_count": null,
   "metadata": {
    "id": "tIPgFVn7UbtN"
   },
   "outputs": [],
   "source": [
    "animeList[(animeList['studio'] == 'Madhouse')].membersLogNorm.plot.box()"
   ]
  },
  {
   "cell_type": "code",
   "execution_count": null,
   "metadata": {
    "id": "4KymOnkuUdC0"
   },
   "outputs": [],
   "source": [
    "animeList[(animeList['studio'] == 'Toei Animation')].membersLogNorm.plot.box()"
   ]
  },
  {
   "cell_type": "markdown",
   "metadata": {
    "id": "bU1kayRhSYLy"
   },
   "source": [
    "Temos então na comparação da **Sunrise** com a **Madhouse** que:\n",
    "- Animes da 'Sunrise' geralmente possuem score ligeiramente maior\n",
    "- O alcance dos animes da **Madhouse**,em sua maioria, são maiores, principalmente de Shounen, tendo em vista uma quantidade de membros maior.\n",
    "- Os dados não são identicos por possuir p-value muito baixo"
   ]
  },
  {
   "cell_type": "markdown",
   "metadata": {
    "id": "UVyJxKvSSo9y"
   },
   "source": [
    "Como análise geral, temos que:\n",
    "- Animes da **Madhouse** possuem tendência a possuir um alcance muito maior, principalmente para animes Shounen.\n",
    "- Animes da **Sunrise** possui scores ligeiramente maiores em relação aos demais estúdios.\n",
    "- Animes da **Toei Animation**, apesar de possuirem quantidade de membros menores, prossegue sendo boa escolha por não haver tanta diferença em seus scores."
   ]
  },
  {
   "cell_type": "markdown",
   "metadata": {
    "id": "7_Ws6JEdXS2Y"
   },
   "source": [
    "**Toei Animation** é responsável pela produção de alguns animes longos famosos como One Piece, Cavaleiros do Zodiaco e Dragon Ball Z"
   ]
  },
  {
   "cell_type": "markdown",
   "metadata": {
    "id": "BVZqAvJEIhm4"
   },
   "source": [
    "# Clustering"
   ]
  },
  {
   "cell_type": "markdown",
   "metadata": {
    "id": "2crwk1nnLWwB"
   },
   "source": [
    "Acima, dividimos os membros em 6 quantis, e também pelos gráficos conseguimos observar que os animes com mais membros tendem a ter um score maior. Agora, ao invés de separar pelos quantis, tentaremos achar clusters."
   ]
  },
  {
   "cell_type": "code",
   "execution_count": null,
   "metadata": {
    "id": "7R-YiyFIIjqj"
   },
   "outputs": [],
   "source": [
    "animeCluster = animeList[['score', 'members']]\n",
    "# toCluster = np.asarray([np.asarray(c['score']), np.asarray(c['members'])]).T"
   ]
  },
  {
   "cell_type": "markdown",
   "metadata": {
    "id": "bmT_pk_PUjk1"
   },
   "source": [
    "Utilizaremos o silhouette score para selecionar qual o melhor número de clusters, variando de 2 a 6"
   ]
  },
  {
   "cell_type": "code",
   "execution_count": null,
   "metadata": {
    "id": "P4XuxsFbS30D"
   },
   "outputs": [],
   "source": [
    "X = animeCluster\n",
    "for k in tqdm(range(2,7)):\n",
    "    k_means = KMeans(n_clusters = k, random_state=2020)\n",
    "    labels = k_means.fit_predict(X)\n",
    "    silhouette_avg = silhouette_score(X, labels)\n",
    "    print(\"For k clusters =\", k,\n",
    "          \"The average silhouette_score is :\", silhouette_avg)\n"
   ]
  },
  {
   "cell_type": "markdown",
   "metadata": {
    "id": "SAbWv_02g3DV"
   },
   "source": [
    "k = 2 obteve o melhor score, porém utilizaremos k = 3 para ter uma divisão maior"
   ]
  },
  {
   "cell_type": "code",
   "execution_count": null,
   "metadata": {
    "id": "GiIgIxXaTDmQ"
   },
   "outputs": [],
   "source": [
    "k_means = KMeans(n_clusters=3, random_state=2020)\n",
    "\n",
    "labels = k_means.fit_predict(animeCluster)\n",
    "animeCluster['label'] = labels\n",
    "animeCluster['label'] = animeCluster['label'].astype('category')"
   ]
  },
  {
   "cell_type": "code",
   "execution_count": null,
   "metadata": {
    "id": "tAMFKwBbiCBx"
   },
   "outputs": [],
   "source": [
    "plt.figure(figsize=(15,10))\n",
    "plt.scatter(animeCluster['score'], animeCluster['members'], c=labels)\n",
    "plt.xlabel('3 clusters de score e a razão de favoritos com membros');"
   ]
  },
  {
   "cell_type": "code",
   "execution_count": null,
   "metadata": {
    "id": "vEPWQcmzlixl"
   },
   "outputs": [],
   "source": [
    "countCluster = animeCluster.label.value_counts()\n",
    "plt.figure(figsize=(15,10))\n",
    "sns.barplot(x=countCluster.values, y=countCluster.index,orient=\"h\", order=countCluster.index)\n",
    "plt.xlabel(\"Qt per cluster\")\n",
    "plt.show()"
   ]
  },
  {
   "cell_type": "code",
   "execution_count": null,
   "metadata": {
    "id": "t1hc-9i8ilnt"
   },
   "outputs": [],
   "source": [
    "meanCluster = animeCluster.groupby(\"label\").score.mean().sort_values(ascending=False)\n",
    "plt.figure(figsize=(15,10))\n",
    "sns.barplot(x=meanCluster.values, y=meanCluster.index,orient=\"h\", order=meanCluster.index)\n",
    "plt.xlabel(\"Mean scores per cluster\")\n",
    "plt.show()"
   ]
  },
  {
   "cell_type": "code",
   "execution_count": null,
   "metadata": {
    "id": "6ceKLn_Vm2aL"
   },
   "outputs": [],
   "source": [
    "meanCluster = animeCluster.groupby(\"label\").members.mean().sort_values(ascending=False)\n",
    "plt.figure(figsize=(15,10))\n",
    "sns.barplot(x=meanCluster.values, y=meanCluster.index,orient=\"h\", order=meanCluster.index)\n",
    "plt.xlabel(\"Mean members per cluster\")\n",
    "plt.show()"
   ]
  },
  {
   "cell_type": "markdown",
   "metadata": {
    "id": "2jRvyiz3k9Xx"
   },
   "source": [
    "Com separacao do dataset com 3 clusters, foi dividido os animes com maior nota dos com menor nota, sendo também verdade para a média da quantidade de membros."
   ]
  }
 ],
 "metadata": {
  "colab": {
   "collapsed_sections": [
    "A7GGnTjHWhsm",
    "cPtIhENZWnXX",
    "q2uiEtI0bx4B",
    "iccgznwjb0n2",
    "-y7dgj4Lbton",
    "QCHJ6Rggb3sj"
   ],
   "name": "myAnimeListAnalyis.ipynb",
   "provenance": []
  },
  "kernelspec": {
   "display_name": "Python 3",
   "language": "python",
   "name": "python3"
  },
  "language_info": {
   "codemirror_mode": {
    "name": "ipython",
    "version": 3
   },
   "file_extension": ".py",
   "mimetype": "text/x-python",
   "name": "python",
   "nbconvert_exporter": "python",
   "pygments_lexer": "ipython3",
   "version": "3.7.4"
  }
 },
 "nbformat": 4,
 "nbformat_minor": 1
}
